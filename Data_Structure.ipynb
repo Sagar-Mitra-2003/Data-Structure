{
  "cells": [
    {
      "cell_type": "markdown",
      "source": [
        "# Data Types and Structures Questions"
      ],
      "metadata": {
        "id": "p1hmpbvdjBUj"
      }
    },
    {
      "cell_type": "markdown",
      "source": [
        "Q-1 : What are data structures, and why are they important\n",
        "> * A data structure is a way of organizing and storing data in a computer so that it can be accessed and used efficiently. It refers to the logical or mathematical representation of data, as well as the implementation in a computer program.\n",
        "\n",
        "> * Data structures are essential for two main reasons: they make the code more efficient, and they make the code easier to understand. When it comes to efficiency, data structures help the computer to run the code faster by organizing the data in a way that is easy for the computer to process."
      ],
      "metadata": {
        "id": "2MKkrmrQjLKc"
      }
    },
    {
      "cell_type": "markdown",
      "source": [
        "Q-2 : Explain the difference between mutable and immutable data types with examples.\n",
        ">Mutable data types allow their values to be modified after creation, while immutable data types cannot be changed once created. Examples of mutable data types include lists, dictionaries, and sets, whereas immutable data types include strings and tuples."
      ],
      "metadata": {
        "id": "CvEA-KbFlF6z"
      }
    },
    {
      "cell_type": "markdown",
      "source": [
        "Q-3 : What are the main differences between lists and tuples in Python?\n",
        "> * Tuples are immutable objects and lists are mutable objects.\n",
        "Once defined, tuples have a fixed length and lists have a dynamic length.\n",
        "* Tuples use less memory and are faster to access than to lists.\n",
        "Tuple syntax uses round brackets or parenthesis, and list syntax uses square brackets."
      ],
      "metadata": {
        "id": "MVqGfibjliB5"
      }
    },
    {
      "cell_type": "markdown",
      "source": [
        "Q-4 : Describe how dictionaries store data.\n",
        "> Dictionaries are unordered collections of data and are represented with curly brackets { } . Like lists, dictionaries are mutable(changeable) and indexed. With dictionaries, data is stored in a key:value format."
      ],
      "metadata": {
        "id": "1EPHdjhuBE3s"
      }
    },
    {
      "cell_type": "markdown",
      "source": [
        "Q-5 : Why might you use a set instead of a list in Python?\n",
        "> In Python, both sets and lists are used to store collections of elements but they have key differences that make them suitable for different use cases. The main difference is that lists are ordered, meaning the order of elements is preserved and they can be accessed by their index while sets are unordered meaning they do not maintain the order of elements and automatically ensure all elements are unique."
      ],
      "metadata": {
        "id": "IREu41UhBPmb"
      }
    },
    {
      "cell_type": "markdown",
      "source": [
        "Q-6 : What is a string in Python, and how is it different from a list?\n",
        "> A string in Python is a sequence of characters. These characters can be letters, numbers, symbols, or whitespace. Strings are used to represent textual data.\n",
        "\n",
        "> In Python, a string is an immutable sequence of characters, meaning once it is created, it cannot be changed. Strings are defined using either single quotes, double quotes, or triple quotes. A list, on the other hand, is a mutable sequence of elements, which means you can modify, add, or remove elements after the list has been created. Lists are defined using square brackets and can contain elements of different data types."
      ],
      "metadata": {
        "id": "XQFeJ8w0Bb3q"
      }
    },
    {
      "cell_type": "markdown",
      "source": [
        "Q-7 : How do tuples ensure data integrity in Python?\n",
        "> Tuples in Python ensure data integrity through their immutability. Once a tuple is created, its elements cannot be changed, added, or removed."
      ],
      "metadata": {
        "id": "dId5VFm9BnRT"
      }
    },
    {
      "cell_type": "markdown",
      "source": [
        "Q-8 : What is a hash table, and how does it relate to dictionaries in Python?\n",
        "> A hash table in Python is a data structure that stores data in key-value pairs. It uses a hash function to compute an index into an array, where the element will be inserted or searched. This allows for fast data retrieval, insertion, and deletion."
      ],
      "metadata": {
        "id": "mnvuAkN0BuaD"
      }
    },
    {
      "cell_type": "markdown",
      "source": [
        "Q-9 : Can lists contain different data types in Python?\n",
        "> Yes, lists in Python can contain elements of different data types. This means a single list can hold a combination of integers, floats, strings, booleans, and even other complex data structures like lists, tuples, or dictionaries."
      ],
      "metadata": {
        "id": "aKw7W7f2B9CR"
      }
    },
    {
      "cell_type": "markdown",
      "source": [
        "Q-10 :  Explain why strings are immutable in Python.\n",
        "> Strings in Python are \"immutable\" which means they can not be changed after they are created. Some other immutable data types are integers, float, boolean, etc.\n",
        "\n",
        ">The immutability of Python string is very useful as it helps in hashing, performance optimization, safety, ease of use, etc."
      ],
      "metadata": {
        "id": "ckGsnpgcCEmS"
      }
    },
    {
      "cell_type": "markdown",
      "source": [
        "Q-11 :  What advantages do dictionaries offer over lists for certain tasks?\n",
        "> Dictionary is more useful when the indexing is needed so that any search can be narrowed down and is less time-consuming.\n",
        "\n",
        "> E.g. Saving phone numbers. If indexing is done then searching with the name will take less time than a list."
      ],
      "metadata": {
        "id": "45HluO1BCLQS"
      }
    },
    {
      "cell_type": "markdown",
      "source": [
        "Q-12 : Describe a scenario where using a tuple would be preferable over a list.\n",
        ">* Use a list if you need a mutable collection of items where you may need to add, remove, or change elements. Lists are more flexible and have more built-in methods, making them ideal for dynamic collections.\n",
        "* Use a tuple if you need an immutable collection where the elements won't change after creation."
      ],
      "metadata": {
        "id": "7H8ZEmx5CXP6"
      }
    },
    {
      "cell_type": "markdown",
      "source": [
        "Q-13 : How do sets handle duplicate values in Python?\n",
        "> In Python, sets are designed to store only unique elements. When you attempt to add a duplicate value to a set, it will not be added, and the set remains unchanged. This behavior ensures that each element in a set is distinct.\n",
        "\n",
        "> Sets are created using curly braces {} or the set() constructor. If you initialize a set with duplicate values, the duplicates will be automatically removed, and only the unique values will be stored."
      ],
      "metadata": {
        "id": "xmdCT6WMCd8x"
      }
    },
    {
      "cell_type": "markdown",
      "source": [
        "Q-14 :  How does the “in” keyword work differently for lists and dictionaries?"
      ],
      "metadata": {
        "id": "6JWz8Z3ECjr6"
      }
    },
    {
      "cell_type": "markdown",
      "source": [
        "Q-15 : Can you modify the elements of a tuple? Explain why or why not?\n",
        "> No, you cannot directly modify the elements of a tuple after it has been created. Tuples are immutable data structures, meaning their contents cannot be changed, added to, or removed from once they are defined. This immutability ensures that the data within a tuple remains consistent and predictable throughout its lifetime."
      ],
      "metadata": {
        "id": "eF950be_CqZq"
      }
    },
    {
      "cell_type": "markdown",
      "source": [
        "Q-16 :  What is a nested dictionary, and give an example of its use case?\n",
        "> In Python, a nested dictionary is a dictionary inside a dictionary. It's a collection of dictionaries into one single dictionary.\n",
        "\n",
        "nested_dict = { 'dictA': {'key_1': 'value_1'},\n",
        "                'dictB': {'key_2': 'value_2'}}\n",
        "\n",
        "> Here, the nested_dict is a nested dictionary with the dictionary dictA and dictB. They are two dictionary each having own key and value."
      ],
      "metadata": {
        "id": "qYzckCMKC0lZ"
      }
    },
    {
      "cell_type": "markdown",
      "source": [
        "Q-17 : Describe the time complexity of accessing elements in a dictionary.\n",
        "> Accessing an element in a dictionary typically has an average time complexity of O(1), meaning it takes constant time regardless of the dictionary's size. This is due to the use of a hash table, which allows for direct lookup of elements based on their key. In the worst-case scenario, where a hash function causes many collisions, the time complexity can degrade to O(n), where n is the number of elements in the dictionary."
      ],
      "metadata": {
        "id": "CYlmhTfOC-Pa"
      }
    },
    {
      "cell_type": "markdown",
      "source": [
        "Q-18 :  In what situations are lists preferred over dictionaries?\n",
        ">If we are managing a list of tasks where the order of execution matters, lists are an ideal choice.\n",
        "\n",
        "> Conversely, dictionaries excel in scenarios where data is associated with unique identifiers."
      ],
      "metadata": {
        "id": "RNXapc8VDDjC"
      }
    },
    {
      "cell_type": "markdown",
      "source": [
        "Q-19 : Why are dictionaries considered unordered, and how does that affect data retrieval?\n",
        "> Dictionaries are considered unordered because their primary purpose is to enable fast key-based access, not to maintain a specific order of elements. They don't inherently track the order in which items are added. While you can iterate over a dictionary and see the keys in some order, this order is not guaranteed to match the insertion order and can vary depending on the implementation or language."
      ],
      "metadata": {
        "id": "qUitDl4vDJFS"
      }
    },
    {
      "cell_type": "markdown",
      "source": [
        "Q-20 :  Explain the difference between a list and a dictionary in terms of data retrieval.\n",
        "> In terms of data retrieval, lists are accessed by index, while dictionaries are accessed by key. This means that to retrieve a specific element from a list, you use its numerical position (starting from 0), whereas for a dictionary, you use the associated key to find the corresponding value."
      ],
      "metadata": {
        "id": "fzrZca9GDPRr"
      }
    },
    {
      "cell_type": "markdown",
      "source": [
        "# Programming Practical"
      ],
      "metadata": {
        "id": "xyZTA_YArWy3"
      }
    },
    {
      "cell_type": "code",
      "source": [
        "# Q-1 : Write a code to create a string with your name and print it.\n",
        "name = input(\"Please enter your name: \")\n",
        "print(\"Hello,\", name,\"! Good to see you.\")"
      ],
      "metadata": {
        "colab": {
          "base_uri": "https://localhost:8080/"
        },
        "id": "pGMX9iXWri9o",
        "outputId": "f09e33ca-ef28-4832-f9ae-3cc7184a6f78"
      },
      "execution_count": null,
      "outputs": [
        {
          "output_type": "stream",
          "name": "stdout",
          "text": [
            "Please enter your name: Sagar Mitra\n",
            "Hello, Sagar Mitra ! Good to see you.\n"
          ]
        }
      ]
    },
    {
      "cell_type": "code",
      "source": [
        "# Q-2 : Write a code to find the length of the string \"Hello World.\n",
        "string = \"Hellow World\"\n",
        "x = len(string)\n",
        "print(\"Length of the string is : \",x)"
      ],
      "metadata": {
        "colab": {
          "base_uri": "https://localhost:8080/"
        },
        "id": "0eS8ngpctMUg",
        "outputId": "573d3684-cbdf-48e4-b5ca-a37726838217"
      },
      "execution_count": null,
      "outputs": [
        {
          "output_type": "stream",
          "name": "stdout",
          "text": [
            "Length of the string is :  12\n"
          ]
        }
      ]
    },
    {
      "cell_type": "code",
      "source": [
        "# Q-3 : Write a code to slice the first 3 characters from the string \"Python Programming\".\n",
        "my_string = \"Python Programming\"\n",
        "sliced_string = my_string[:3]\n",
        "print(\"first 3 characters from the string is :\",sliced_string)"
      ],
      "metadata": {
        "colab": {
          "base_uri": "https://localhost:8080/"
        },
        "id": "AxFZEKyptz04",
        "outputId": "4b36882c-5a78-42cd-a19a-143194c1941d"
      },
      "execution_count": null,
      "outputs": [
        {
          "output_type": "stream",
          "name": "stdout",
          "text": [
            "first 3 characters from the string is : Pyt\n"
          ]
        }
      ]
    },
    {
      "cell_type": "code",
      "source": [
        "# Q-4 : Write a code to convert the string \"hello\" to uppercase.\n",
        "string = \"hello\"\n",
        "uppercase_string = string.upper()\n",
        "print(uppercase_string)"
      ],
      "metadata": {
        "colab": {
          "base_uri": "https://localhost:8080/"
        },
        "id": "Z9tRA-g0u4-w",
        "outputId": "4f1520f6-b278-4ad6-e24b-576e7299b8fd"
      },
      "execution_count": null,
      "outputs": [
        {
          "output_type": "stream",
          "name": "stdout",
          "text": [
            "HELLO\n"
          ]
        }
      ]
    },
    {
      "cell_type": "code",
      "source": [
        "# Q-5 : Write a code to replace the word \"apple\" with \"orange\" in the string \"I like apple\".\n",
        "s = \"I like apple\"\n",
        "s1 = s.replace(\"apple\", \"orange\")\n",
        "print(\"Replaced string is :\",s1)"
      ],
      "metadata": {
        "colab": {
          "base_uri": "https://localhost:8080/"
        },
        "id": "sv8Q40wCvUw1",
        "outputId": "48accfc6-dde2-4fe0-ee5f-2de01f18998c"
      },
      "execution_count": null,
      "outputs": [
        {
          "output_type": "stream",
          "name": "stdout",
          "text": [
            "Replaced string is : I like orange\n"
          ]
        }
      ]
    },
    {
      "cell_type": "code",
      "source": [
        "# Q-6 :  Write a code to create a list with numbers 1 to 5 and print it.\n",
        "List = list(range(1,6))\n",
        "print(\"List is :\",List)"
      ],
      "metadata": {
        "colab": {
          "base_uri": "https://localhost:8080/"
        },
        "id": "jpO-9xygxQGG",
        "outputId": "5a3db903-45b1-42c4-d1a8-3cbe79bb24d4"
      },
      "execution_count": null,
      "outputs": [
        {
          "output_type": "stream",
          "name": "stdout",
          "text": [
            "List is : [1, 2, 3, 4, 5]\n"
          ]
        }
      ]
    },
    {
      "cell_type": "code",
      "source": [
        "# Q-7 : Write a code to append the number 10 to the list [1, 2, 3, 4].\n",
        "numbers = [1, 2, 3, 4]\n",
        "numbers.append(10)\n",
        "print(numbers)"
      ],
      "metadata": {
        "colab": {
          "base_uri": "https://localhost:8080/"
        },
        "id": "3QWunwE_yPpd",
        "outputId": "1b3f6dcb-2dac-4ea1-9d7e-79ed034eab0f"
      },
      "execution_count": null,
      "outputs": [
        {
          "output_type": "stream",
          "name": "stdout",
          "text": [
            "[1, 2, 3, 4, 10]\n"
          ]
        }
      ]
    },
    {
      "cell_type": "code",
      "source": [
        "# Q-8 : Write a code to remove the number 3 from the list [1, 2, 3, 4, 5].\n",
        "numbers = [1, 2, 3, 4, 5]\n",
        "numbers.remove(3)\n",
        "print(numbers)"
      ],
      "metadata": {
        "colab": {
          "base_uri": "https://localhost:8080/"
        },
        "id": "7iA0TyHF1cbd",
        "outputId": "d2f49b73-3e13-441d-909e-2930d884eac7"
      },
      "execution_count": null,
      "outputs": [
        {
          "output_type": "stream",
          "name": "stdout",
          "text": [
            "[1, 2, 4, 5]\n"
          ]
        }
      ]
    },
    {
      "cell_type": "code",
      "source": [
        "# Q-9 : Write a code to access the second element in the list ['a', 'b', 'c', 'd'].\n",
        "list = ['a', 'b', 'c', 'd']\n",
        "print(\"The second element is :\",list[1])\n"
      ],
      "metadata": {
        "colab": {
          "base_uri": "https://localhost:8080/"
        },
        "id": "Ip0wGdjs2isq",
        "outputId": "d57227a8-68ff-45e4-b8fa-57ecdfedb644"
      },
      "execution_count": null,
      "outputs": [
        {
          "output_type": "stream",
          "name": "stdout",
          "text": [
            "The second element is : b\n"
          ]
        }
      ]
    },
    {
      "cell_type": "code",
      "source": [
        "# Q-10 : Write a code to reverse the list [10, 20, 30, 40, 50].\n",
        "List = [10, 20, 30, 40, 50]\n",
        "print(List)\n",
        "List.reverse()\n",
        "print(\"Reverse list is :\",List)\n"
      ],
      "metadata": {
        "colab": {
          "base_uri": "https://localhost:8080/"
        },
        "id": "P7VKvZgv3fQM",
        "outputId": "1ec0eb6d-a4ac-4503-da4e-408f2eda6087"
      },
      "execution_count": null,
      "outputs": [
        {
          "output_type": "stream",
          "name": "stdout",
          "text": [
            "[10, 20, 30, 40, 50]\n",
            "Reverse list is : [50, 40, 30, 20, 10]\n"
          ]
        }
      ]
    },
    {
      "cell_type": "code",
      "source": [
        "# Q-11 : Write a code to create a tuple with the elements 100, 200, 300 and print it.\n",
        "tup = (100,200,300)\n",
        "print(\"Tuple is :\",tup)"
      ],
      "metadata": {
        "colab": {
          "base_uri": "https://localhost:8080/"
        },
        "id": "A-VFslu34oCS",
        "outputId": "64a47ed3-dbdd-4a8d-ab4a-5711ada544df"
      },
      "execution_count": null,
      "outputs": [
        {
          "output_type": "stream",
          "name": "stdout",
          "text": [
            "Tuple is : (100, 200, 300)\n"
          ]
        }
      ]
    },
    {
      "cell_type": "code",
      "source": [
        "# Q-12 : Write a code to access the second-to-last element of the tuple ('red', 'green', 'blue', 'yellow').\n",
        "tup = ('red', 'green', 'blue', 'yellow')\n",
        "tup2 = tup[1:len(tup)]\n",
        "print(tup2)"
      ],
      "metadata": {
        "colab": {
          "base_uri": "https://localhost:8080/"
        },
        "id": "4agIxzyk5YWM",
        "outputId": "7c499148-b19c-41e1-902c-b441170fa562"
      },
      "execution_count": null,
      "outputs": [
        {
          "output_type": "stream",
          "name": "stdout",
          "text": [
            "('green', 'blue', 'yellow')\n"
          ]
        }
      ]
    },
    {
      "cell_type": "code",
      "source": [
        "# Q-13 : Write a code to find the minimum number in the tuple (10, 20, 5, 15).\n",
        "num = (10, 20, 5, 15)\n",
        "print(num)\n",
        "min_num = min(numbers)\n",
        "print(\"minimum number is :\",min_num)"
      ],
      "metadata": {
        "colab": {
          "base_uri": "https://localhost:8080/"
        },
        "id": "mkBfEb1y-Okh",
        "outputId": "34be8f14-5b81-433c-a807-358af61e855d"
      },
      "execution_count": null,
      "outputs": [
        {
          "output_type": "stream",
          "name": "stdout",
          "text": [
            "(10, 20, 5, 15)\n",
            "minimum number is : 5\n"
          ]
        }
      ]
    },
    {
      "cell_type": "code",
      "source": [
        "# Q-14 : Write a code to find the index of the element \"cat\" in the tuple ('dog', 'cat', 'rabbit').\n",
        "tup = ('dog', 'cat', 'rabbit')\n",
        "x = tup.index(\"cat\")\n",
        "print(\"Index of cat is :\",x)"
      ],
      "metadata": {
        "colab": {
          "base_uri": "https://localhost:8080/"
        },
        "id": "OdBjJ4i3_URq",
        "outputId": "7afdb8f1-d226-4e88-f27f-6f2e8bd1aa02"
      },
      "execution_count": null,
      "outputs": [
        {
          "output_type": "stream",
          "name": "stdout",
          "text": [
            "Index of cat is : 1\n"
          ]
        }
      ]
    },
    {
      "cell_type": "code",
      "source": [
        "# Q-15 : Write a code to create a tuple containing three different fruits and check if \"kiwi\" is in it.\n",
        "tup = (\"orange\", \"apple\", \"banana\")\n",
        "print(tup)\n",
        "el_check = \"kiwi\"\n",
        "\n",
        "if el_check in tup:\n",
        "    print(f\"{el_check} exists in the tuple.\")\n",
        "else:\n",
        "    print(f\"{el_check} does not exist in the tuple.\")"
      ],
      "metadata": {
        "colab": {
          "base_uri": "https://localhost:8080/"
        },
        "id": "j8srOVBVALm7",
        "outputId": "dbbe5d8b-05ba-42c9-d711-30c8de96fa5d"
      },
      "execution_count": null,
      "outputs": [
        {
          "output_type": "stream",
          "name": "stdout",
          "text": [
            "('orange', 'apple', 'banana')\n",
            "kiwi does not exist in the tuple.\n"
          ]
        }
      ]
    },
    {
      "cell_type": "code",
      "source": [
        "# Q-16 : Write a code to create a set with the elements 'a', 'b', 'c' and print it\n",
        "my_set = {'a', 'b', 'c'}\n",
        "print(\"My set is :\",my_set)"
      ],
      "metadata": {
        "colab": {
          "base_uri": "https://localhost:8080/"
        },
        "id": "pOuExkTfB_5q",
        "outputId": "2b605d5f-0ed6-49aa-f020-933228398432"
      },
      "execution_count": null,
      "outputs": [
        {
          "output_type": "stream",
          "name": "stdout",
          "text": [
            "My set is : {'c', 'b', 'a'}\n"
          ]
        }
      ]
    },
    {
      "cell_type": "code",
      "source": [
        "# Q-17 : Write a code to clear all elements from the set {1, 2, 3, 4, 5}\n",
        "my_set = {1, 2, 3, 4, 5}\n",
        "print(my_set)\n",
        "my_set.clear()\n",
        "print(my_set)"
      ],
      "metadata": {
        "colab": {
          "base_uri": "https://localhost:8080/"
        },
        "id": "qxo7RvdbDEmY",
        "outputId": "4ea23beb-b585-45a8-9083-2c83b40282e3"
      },
      "execution_count": null,
      "outputs": [
        {
          "output_type": "stream",
          "name": "stdout",
          "text": [
            "{1, 2, 3, 4, 5}\n",
            "set()\n"
          ]
        }
      ]
    },
    {
      "cell_type": "code",
      "source": [
        "# Q-18 : Write a code to remove the element 4 from the set {1, 2, 3, 4}\n",
        "my_set = {1, 2, 3, 4}\n",
        "print(my_set)\n",
        "my_set.remove(4)\n",
        "print(my_set)"
      ],
      "metadata": {
        "colab": {
          "base_uri": "https://localhost:8080/"
        },
        "id": "wvLfLLuBEejG",
        "outputId": "c7aa21f7-62e7-402c-d6b7-09c9ff1cc31c"
      },
      "execution_count": null,
      "outputs": [
        {
          "output_type": "stream",
          "name": "stdout",
          "text": [
            "{1, 2, 3, 4}\n",
            "{1, 2, 3}\n"
          ]
        }
      ]
    },
    {
      "cell_type": "code",
      "source": [
        "# Q-19 : Write a code to find the union of two sets {1, 2, 3} and {3, 4, 5}.\n",
        "set1 = {1, 2, 3}\n",
        "set2 = {3, 4, 5}\n",
        "set3 = set1 | set2\n",
        "print(\"Union of set :\",set3)"
      ],
      "metadata": {
        "colab": {
          "base_uri": "https://localhost:8080/"
        },
        "id": "SnqYZpi_FOQX",
        "outputId": "381560f1-e61f-44d3-8a86-d48d1287a7d7"
      },
      "execution_count": null,
      "outputs": [
        {
          "output_type": "stream",
          "name": "stdout",
          "text": [
            "Union of set : {1, 2, 3, 4, 5}\n"
          ]
        }
      ]
    },
    {
      "cell_type": "code",
      "source": [
        "# Q-20 :  Write a code to find the intersection of two sets {1, 2, 3} and {2, 3, 4}.\n",
        "set1 = {1, 2, 3}\n",
        "set2 = {2, 3, 4,}\n",
        "set3 = set1 & set2\n",
        "print(\"Intersection of set :\",set3)"
      ],
      "metadata": {
        "colab": {
          "base_uri": "https://localhost:8080/"
        },
        "id": "p2LntkffF4tn",
        "outputId": "67f6b134-2128-458f-dada-a7003483f103"
      },
      "execution_count": 1,
      "outputs": [
        {
          "output_type": "stream",
          "name": "stdout",
          "text": [
            "Intersection of set : {2, 3}\n"
          ]
        }
      ]
    },
    {
      "cell_type": "code",
      "source": [
        "# Q-21 : Write a code to create a dictionary with the keys \"name\", \"age\", and \"city\", and print it.\n",
        "info = {\n",
        "    \"Name\" : \"Sagar Mitra\",\n",
        "    \"Age\" : 22,\n",
        "    \"City\" : \"Naihati\"\n",
        "}\n",
        "print(type(info))\n",
        "print(info)"
      ],
      "metadata": {
        "colab": {
          "base_uri": "https://localhost:8080/"
        },
        "id": "cS9X7iMJptPX",
        "outputId": "59415138-5b84-49f6-f4a3-72c5a7a8f77c"
      },
      "execution_count": 4,
      "outputs": [
        {
          "output_type": "stream",
          "name": "stdout",
          "text": [
            "<class 'dict'>\n",
            "{'Name': 'Sagar Mitra', 'Age': 22, 'City': 'Naihati'}\n"
          ]
        }
      ]
    },
    {
      "cell_type": "code",
      "source": [
        "# Q-22 : Write a code to add a new key-value pair \"country\": \"USA\" to the dictionary {'name': 'John', 'age': 25}.\n",
        "dictionary = {'name': 'John', 'age': 25}\n",
        "dictionary[\"country\"] = \"USA\"\n",
        "print(dictionary)"
      ],
      "metadata": {
        "colab": {
          "base_uri": "https://localhost:8080/"
        },
        "id": "oarFYzdRrEyo",
        "outputId": "b123d502-b6c1-41b0-f3a1-3611a788f727"
      },
      "execution_count": 5,
      "outputs": [
        {
          "output_type": "stream",
          "name": "stdout",
          "text": [
            "{'name': 'John', 'age': 25, 'country': 'USA'}\n"
          ]
        }
      ]
    },
    {
      "cell_type": "code",
      "source": [
        "# Q-23 : Write a code to access the value associated with the key \"name\" in the dictionary {'name': 'Alice', 'age': 30}.\n",
        "dictionary = {'name': 'Alice', 'age': 30}\n",
        "print(dictionary[\"name\"])"
      ],
      "metadata": {
        "colab": {
          "base_uri": "https://localhost:8080/"
        },
        "id": "VjFQ1Za9sEhD",
        "outputId": "a9270ab2-bdf4-4087-a5db-691cae08fc83"
      },
      "execution_count": 6,
      "outputs": [
        {
          "output_type": "stream",
          "name": "stdout",
          "text": [
            "Alice\n"
          ]
        }
      ]
    },
    {
      "cell_type": "code",
      "source": [
        "# Q-24 : Write a code to remove the key \"age\" from the dictionary {'name': 'Bob', 'age': 22, 'city': 'New York'}.\n",
        "dictionary = {'name': 'Bob', 'age': 22, 'city': 'New York'}\n",
        "del dictionary[\"age\"]\n",
        "print(dictionary)"
      ],
      "metadata": {
        "colab": {
          "base_uri": "https://localhost:8080/"
        },
        "id": "RBUsGsR7smzm",
        "outputId": "c3c9322e-06c3-420e-ce89-38a65938c422"
      },
      "execution_count": 10,
      "outputs": [
        {
          "output_type": "stream",
          "name": "stdout",
          "text": [
            "{'name': 'Bob', 'city': 'New York'}\n"
          ]
        }
      ]
    },
    {
      "cell_type": "code",
      "source": [
        "# Q-25 : Write a code to check if the key \"city\" exists in the dictionary {'name': 'Alice', 'city': 'Paris'}.\n",
        "dictionary = {'name': 'Alice', 'city': 'Paris'}\n",
        "key = \"city\"\n",
        "if (key in dictionary):\n",
        "  print(\"Key exist in dictionary\")\n",
        "else:\n",
        "  print(\"Key does not exist in dictionary\")\n",
        "\n"
      ],
      "metadata": {
        "colab": {
          "base_uri": "https://localhost:8080/"
        },
        "id": "VwJ05EfbuU9n",
        "outputId": "65210ce1-f110-4578-f045-dbb2a5196026"
      },
      "execution_count": 11,
      "outputs": [
        {
          "output_type": "stream",
          "name": "stdout",
          "text": [
            "Key exist in dictionary\n"
          ]
        }
      ]
    },
    {
      "cell_type": "code",
      "source": [
        "# Q-26 : Write a code to create a list, a tuple, and a dictionary, and print them all.\n",
        "List = [\"Sagar Mitra\", 22, \"Naihati\"]\n",
        "print(type(List))\n",
        "print(\"List :\",List)\n",
        "tup = tuple(List)\n",
        "print(type(tup))\n",
        "print(\"Tuple :\",tup)\n",
        "dic = {\"Name\":\"Sagar Mitra\",\"Age\":22,\"City\":\"Naihati\"}\n",
        "print(type(dic))\n",
        "print(\"Dictionary :\",dic)"
      ],
      "metadata": {
        "colab": {
          "base_uri": "https://localhost:8080/"
        },
        "id": "FnGc2cQCw5-G",
        "outputId": "81e7647b-f08b-4812-8b7f-26d47235acb8"
      },
      "execution_count": 23,
      "outputs": [
        {
          "output_type": "stream",
          "name": "stdout",
          "text": [
            "<class 'list'>\n",
            "List : ['Sagar Mitra', 22, 'Naihati']\n",
            "<class 'tuple'>\n",
            "Tuple : ('Sagar Mitra', 22, 'Naihati')\n",
            "<class 'dict'>\n",
            "Dictionary : {'Name': 'Sagar Mitra', 'Age': 22, 'City': 'Naihati'}\n"
          ]
        }
      ]
    },
    {
      "cell_type": "code",
      "source": [
        "# Q-27 : Write a code to create a list of 5 random numbers between 1 and 100, sort it in ascending order, and print the result.\n",
        "import random\n",
        "# Generate a list of random numbers (duplicates allowed)\n",
        "n = 5  # Number of random numbers\n",
        "listt = [random.randint(1, 100) for _ in range(n)]\n",
        "print(listt)\n",
        "listt.sort()\n",
        "print(listt)"
      ],
      "metadata": {
        "colab": {
          "base_uri": "https://localhost:8080/"
        },
        "id": "m2qGnwwxzrNN",
        "outputId": "c3eb56d7-42ab-4611-e54e-83ee4542bccf"
      },
      "execution_count": 26,
      "outputs": [
        {
          "output_type": "stream",
          "name": "stdout",
          "text": [
            "[74, 7, 37, 35, 22]\n",
            "[7, 22, 35, 37, 74]\n"
          ]
        }
      ]
    },
    {
      "cell_type": "code",
      "source": [
        "# Q-28 : Write a code to create a list with strings and print the element at the third index.\n",
        "string = [\"Sagar Mitra\", \"Minati Mitra\", \"Shuvra Mitra\"]\n",
        "print(\"Third element of the list is :\",string[3-1])"
      ],
      "metadata": {
        "colab": {
          "base_uri": "https://localhost:8080/"
        },
        "id": "cWG1usqA1rVF",
        "outputId": "c654dbc0-72f4-45da-bb58-60c691aab4b2"
      },
      "execution_count": 29,
      "outputs": [
        {
          "output_type": "stream",
          "name": "stdout",
          "text": [
            "Third element of the list is : Shuvra Mitra\n"
          ]
        }
      ]
    },
    {
      "cell_type": "code",
      "source": [
        "# Q-29 : Write a code to combine two dictionaries into one and print the result.\n",
        "d1 = {\n",
        "    'Name' : 'Sagar Mitra',\n",
        "    'Age' : 22,\n",
        "    'City' : 'Kolkata'\n",
        "}\n",
        "d2 = {\n",
        "    'Father' : 'R.K.Mitra',\n",
        "    'Mother' : 'Minati Mitra'\n",
        "}\n",
        "d1.update(d2)\n",
        "print(d1)"
      ],
      "metadata": {
        "colab": {
          "base_uri": "https://localhost:8080/"
        },
        "id": "6SZeRf1Q28WU",
        "outputId": "89c52bd4-63c9-4958-8122-8e0c91b9a8ba"
      },
      "execution_count": 32,
      "outputs": [
        {
          "output_type": "stream",
          "name": "stdout",
          "text": [
            "{'Name': 'Sagar Mitra', 'Age': 22, 'City': 'Kolkata', 'Father': 'R.K.Mitra', 'Mother': 'Minati Mitra'}\n"
          ]
        }
      ]
    },
    {
      "cell_type": "code",
      "source": [
        "# Q-30 : Write a code to convert a list of strings into a set.\n",
        "list1 = ['Google', 'Microsoft', 'IBM', 'Microsoft', 'IBM', 'Google']\n",
        "print(\"list :\",list1)\n",
        "set1 = set(list1)\n",
        "print(\"Set :\",set1)"
      ],
      "metadata": {
        "colab": {
          "base_uri": "https://localhost:8080/"
        },
        "id": "g2W81Ygk4MZM",
        "outputId": "ea9d8844-4b6f-4a0b-8158-4a19c8b1e9f0"
      },
      "execution_count": 33,
      "outputs": [
        {
          "output_type": "stream",
          "name": "stdout",
          "text": [
            "list : ['Google', 'Microsoft', 'IBM', 'Microsoft', 'IBM', 'Google']\n",
            "Set : {'Microsoft', 'IBM', 'Google'}\n"
          ]
        }
      ]
    }
  ],
  "metadata": {
    "colab": {
      "provenance": []
    },
    "kernelspec": {
      "display_name": "Python 3",
      "name": "python3"
    }
  },
  "nbformat": 4,
  "nbformat_minor": 0
}